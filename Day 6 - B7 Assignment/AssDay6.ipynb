{
 "cells": [
  {
   "cell_type": "markdown",
   "metadata": {},
   "source": [
    "# Question 1 "
   ]
  },
  {
   "cell_type": "markdown",
   "metadata": {},
   "source": [
    "For this challenge,create a bank account class that has two attributes\n",
    "*ownerName\n",
    "*Balance\n",
    "And two methods\n",
    "*deposit\n",
    "*withdraw\n",
    "As an added requirement,withdrawals may not exceed the available balance.\n",
    "Instantiate your class,make several deposits and withdrawals,and test to make sure the account\n",
    "cant be overdrawn."
   ]
  },
  {
   "cell_type": "code",
   "execution_count": 12,
   "metadata": {},
   "outputs": [],
   "source": [
    "class BankAccount:\n",
    "    \n",
    "    def __init__(self , Owner , Balance):\n",
    "        self.Owner = Owner\n",
    "        self.Balance = Balance\n",
    "        \n",
    "    def Withdraw(self,amt):\n",
    "        if(self.Balance > amt):\n",
    "            self.Balance -= amt\n",
    "            print(\"The amount\" , amt ,\" has been detucted from your Account, Current balance is \",self.Balance)\n",
    "        else:\n",
    "            print(\"The amount cannot be detucted as you have insufficient balance. Your balance is \", self.Balance )   \n",
    "    \n",
    "    def Deposit(self , amt):\n",
    "        self.Balance+=amt\n",
    "        print(\"Deposited Successfully\")\n",
    "        \n",
    "    def showBalance(self):\n",
    "        print(\"Current Balance Is : \",self.Balance)"
   ]
  },
  {
   "cell_type": "code",
   "execution_count": 13,
   "metadata": {},
   "outputs": [],
   "source": [
    "BA = BankAccount('MR' , 500)"
   ]
  },
  {
   "cell_type": "code",
   "execution_count": 14,
   "metadata": {},
   "outputs": [
    {
     "name": "stdout",
     "output_type": "stream",
     "text": [
      "The amount 400  has been detucted from your Account, Current balance is  100\n"
     ]
    }
   ],
   "source": [
    "BA.Withdraw(400)"
   ]
  },
  {
   "cell_type": "code",
   "execution_count": 15,
   "metadata": {},
   "outputs": [
    {
     "name": "stdout",
     "output_type": "stream",
     "text": [
      "The amount cannot be detucted as you have insufficient balance. Your balance is  100\n"
     ]
    }
   ],
   "source": [
    "BA.Withdraw(500)"
   ]
  },
  {
   "cell_type": "code",
   "execution_count": 16,
   "metadata": {},
   "outputs": [
    {
     "name": "stdout",
     "output_type": "stream",
     "text": [
      "Deposited Successfully\n"
     ]
    }
   ],
   "source": [
    "BA.Deposit(1000)"
   ]
  },
  {
   "cell_type": "code",
   "execution_count": 17,
   "metadata": {},
   "outputs": [
    {
     "name": "stdout",
     "output_type": "stream",
     "text": [
      "Current Balance Is :  1100\n"
     ]
    }
   ],
   "source": [
    "BA.showBalance()"
   ]
  },
  {
   "cell_type": "markdown",
   "metadata": {},
   "source": [
    "# Question 2"
   ]
  },
  {
   "cell_type": "markdown",
   "metadata": {},
   "source": [
    "For this challenge,create a cone class that has two attributes:\n",
    "*R=Radius\n",
    "*h=Height\n",
    "And two methods:\n",
    "*Volume = Π * r2 = (h/3)\n",
    "*Surface area : base : Π * r2 , side : Π * r * √(r2 + h2)\n",
    "Make only one class with functions,as in where required import Math."
   ]
  },
  {
   "cell_type": "code",
   "execution_count": 23,
   "metadata": {},
   "outputs": [],
   "source": [
    "import math\n",
    "class Cone:\n",
    "    \n",
    "    def __init__(self , Radius , Height ):\n",
    "        self.Radius = Radius\n",
    "        self.Height = Height\n",
    "    \n",
    "    def Volume(self):\n",
    "        print(\"Volume is \" , (math.pi*self.Radius**2)*self.Height/3 )\n",
    "    \n",
    "    def surfaceArea(self):\n",
    "        val = (math.pi*self.Radius)*(self.Radius + math.sqrt(self.Radius**2 + self.Height**2))\n",
    "        print(\"Surface Area is : \" , val)"
   ]
  },
  {
   "cell_type": "code",
   "execution_count": 20,
   "metadata": {},
   "outputs": [],
   "source": [
    "C = Cone(50 , 10)"
   ]
  },
  {
   "cell_type": "code",
   "execution_count": 21,
   "metadata": {},
   "outputs": [
    {
     "name": "stdout",
     "output_type": "stream",
     "text": [
      "Volume is  26189.999999999996\n",
      "Surface Area is :  15869.5992636597\n"
     ]
    }
   ],
   "source": [
    "C.Volume()\n",
    "C.surfaceArea()"
   ]
  },
  {
   "cell_type": "code",
   "execution_count": 24,
   "metadata": {},
   "outputs": [],
   "source": [
    "C = Cone(20,40)"
   ]
  },
  {
   "cell_type": "code",
   "execution_count": 25,
   "metadata": {},
   "outputs": [
    {
     "name": "stdout",
     "output_type": "stream",
     "text": [
      "Volume is  16755.160819145563\n",
      "Surface Area is :  4066.562953852208\n"
     ]
    }
   ],
   "source": [
    "C.Volume()\n",
    "C.surfaceArea()"
   ]
  },
  {
   "cell_type": "code",
   "execution_count": null,
   "metadata": {},
   "outputs": [],
   "source": []
  }
 ],
 "metadata": {
  "kernelspec": {
   "display_name": "Python 3",
   "language": "python",
   "name": "python3"
  },
  "language_info": {
   "codemirror_mode": {
    "name": "ipython",
    "version": 3
   },
   "file_extension": ".py",
   "mimetype": "text/x-python",
   "name": "python",
   "nbconvert_exporter": "python",
   "pygments_lexer": "ipython3",
   "version": "3.7.1"
  }
 },
 "nbformat": 4,
 "nbformat_minor": 2
}
