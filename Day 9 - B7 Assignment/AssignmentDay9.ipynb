{
 "cells": [
  {
   "cell_type": "markdown",
   "metadata": {},
   "source": [
    "# Assignment Day 9:"
   ]
  },
  {
   "cell_type": "markdown",
   "metadata": {},
   "source": [
    "Question 1 -> Write a python Function to check if a number is prime number or not and then Do unit testing on it using PyLint and UnitTest library"
   ]
  },
  {
   "cell_type": "code",
   "execution_count": 2,
   "metadata": {},
   "outputs": [
    {
     "name": "stdout",
     "output_type": "stream",
     "text": [
      "Requirement already satisfied: pylint in c:\\users\\personal\\appdata\\roaming\\python\\python37\\site-packages (2.4.4)\n",
      "Requirement already satisfied: mccabe<0.7,>=0.6 in c:\\users\\personal\\appdata\\roaming\\python\\python37\\site-packages (from pylint) (0.6.1)\n",
      "Requirement already satisfied: astroid<2.4,>=2.3.0 in c:\\users\\personal\\appdata\\roaming\\python\\python37\\site-packages (from pylint) (2.3.3)\n",
      "Requirement already satisfied: isort<5,>=4.2.5 in c:\\users\\personal\\appdata\\roaming\\python\\python37\\site-packages (from pylint) (4.3.21)\n",
      "Requirement already satisfied: colorama; sys_platform == \"win32\" in c:\\users\\personal\\appdata\\roaming\\python\\python37\\site-packages (from pylint) (0.4.3)\n",
      "Requirement already satisfied: typed-ast<1.5,>=1.4.0; implementation_name == \"cpython\" and python_version < \"3.8\" in c:\\users\\personal\\appdata\\roaming\\python\\python37\\site-packages (from astroid<2.4,>=2.3.0->pylint) (1.4.0)\n",
      "Requirement already satisfied: wrapt==1.11.* in c:\\users\\personal\\appdata\\roaming\\python\\python37\\site-packages (from astroid<2.4,>=2.3.0->pylint) (1.11.2)\n",
      "Requirement already satisfied: lazy-object-proxy==1.4.* in c:\\users\\personal\\appdata\\roaming\\python\\python37\\site-packages (from astroid<2.4,>=2.3.0->pylint) (1.4.3)\n",
      "Requirement already satisfied: six~=1.12 in c:\\users\\personal\\appdata\\roaming\\python\\python37\\site-packages (from astroid<2.4,>=2.3.0->pylint) (1.13.0)\n"
     ]
    }
   ],
   "source": [
    "! pip install pylint"
   ]
  },
  {
   "cell_type": "code",
   "execution_count": 28,
   "metadata": {},
   "outputs": [
    {
     "name": "stdout",
     "output_type": "stream",
     "text": [
      "Overwriting qone.py\n"
     ]
    }
   ],
   "source": [
    "%%writefile qone.py\n",
    "def checkPrime(num):\n",
    "    for i in range (2 , num):\n",
    "        if(num%i == 0):\n",
    "            return False\n",
    "        \n",
    "    return True"
   ]
  },
  {
   "cell_type": "code",
   "execution_count": 30,
   "metadata": {},
   "outputs": [
    {
     "data": {
      "text/plain": [
       "True"
      ]
     },
     "execution_count": 30,
     "metadata": {},
     "output_type": "execute_result"
    }
   ],
   "source": [
    "checkPrime(3)"
   ]
  },
  {
   "cell_type": "code",
   "execution_count": 31,
   "metadata": {},
   "outputs": [
    {
     "data": {
      "text/plain": [
       "False"
      ]
     },
     "execution_count": 31,
     "metadata": {},
     "output_type": "execute_result"
    }
   ],
   "source": [
    "checkPrime(4)"
   ]
  },
  {
   "cell_type": "code",
   "execution_count": 33,
   "metadata": {},
   "outputs": [
    {
     "name": "stdout",
     "output_type": "stream",
     "text": [
      "************* Module qone\n",
      "qone.py:2:19: C0326: No space allowed before bracket\n",
      "    for i in range (2 , num):\n",
      "\n",
      "                   ^ (bad-whitespace)\n",
      "qone.py:2:22: C0326: No space allowed before comma\n",
      "    for i in range (2 , num):\n",
      "\n",
      "                      ^ (bad-whitespace)\n",
      "qone.py:3:0: C0325: Unnecessary parens after 'if' keyword (superfluous-parens)\n",
      "qone.py:5:0: C0303: Trailing whitespace (trailing-whitespace)\n",
      "qone.py:1:0: C0114: Missing module docstring (missing-module-docstring)\n",
      "qone.py:1:0: C0103: Function name \"checkPrime\" doesn't conform to snake_case naming style (invalid-name)\n",
      "qone.py:1:0: C0116: Missing function or method docstring (missing-function-docstring)\n",
      "\n",
      "------------------------------------\n",
      "\n",
      "Your code has been rated at -4.00/10\n",
      "\n",
      "\n",
      "\n"
     ]
    }
   ],
   "source": [
    "! pylint \"qone.py\""
   ]
  },
  {
   "cell_type": "code",
   "execution_count": 34,
   "metadata": {},
   "outputs": [
    {
     "name": "stdout",
     "output_type": "stream",
     "text": [
      "Overwriting qone.py\n"
     ]
    }
   ],
   "source": [
    "%%writefile qone.py\n",
    "def checkPrime(num):\n",
    "    '''\n",
    "    This is Prime Function which checks if a number is prime or not\n",
    "    '''\n",
    "    for i in range(2, num):\n",
    "        if(num%i == 0):\n",
    "            return False\n",
    "    return True"
   ]
  },
  {
   "cell_type": "code",
   "execution_count": 35,
   "metadata": {},
   "outputs": [
    {
     "name": "stdout",
     "output_type": "stream",
     "text": [
      "************* Module qone\n",
      "qone.py:6:0: C0325: Unnecessary parens after 'if' keyword (superfluous-parens)\n",
      "qone.py:1:0: C0114: Missing module docstring (missing-module-docstring)\n",
      "qone.py:1:0: C0103: Function name \"checkPrime\" doesn't conform to snake_case naming style (invalid-name)\n",
      "\n",
      "-------------------------------------------------------------------\n",
      "\n",
      "Your code has been rated at 4.00/10 (previous run: -4.00/10, +8.00)\n",
      "\n",
      "\n",
      "\n"
     ]
    }
   ],
   "source": [
    "! pylint \"qone.py\""
   ]
  },
  {
   "cell_type": "code",
   "execution_count": 36,
   "metadata": {},
   "outputs": [
    {
     "name": "stdout",
     "output_type": "stream",
     "text": [
      "Overwriting qone.py\n"
     ]
    }
   ],
   "source": [
    "%%writefile qone.py\n",
    "'''\n",
    "A file having our function\n",
    "'''\n",
    "def check_prime(num):\n",
    "    '''\n",
    "    This is Prime Function which checks if a number is prime or not\n",
    "    '''\n",
    "    for i in range(2, num):\n",
    "        if num%i == 0:\n",
    "            return False\n",
    "    return True"
   ]
  },
  {
   "cell_type": "code",
   "execution_count": 38,
   "metadata": {},
   "outputs": [
    {
     "name": "stdout",
     "output_type": "stream",
     "text": [
      "************* Module qone\n",
      "qone.py:9:0: C0325: Unnecessary parens after 'if' keyword (superfluous-parens)\n",
      "\n",
      "------------------------------------------------------------------\n",
      "\n",
      "Your code has been rated at 8.00/10 (previous run: 4.00/10, +4.00)\n",
      "\n",
      "\n",
      "\n"
     ]
    }
   ],
   "source": [
    "! pylint \"qone.py\""
   ]
  },
  {
   "cell_type": "code",
   "execution_count": 39,
   "metadata": {},
   "outputs": [
    {
     "name": "stdout",
     "output_type": "stream",
     "text": [
      "Overwriting qone.py\n"
     ]
    }
   ],
   "source": [
    "%%writefile qone.py\n",
    "'''\n",
    "A file having our function\n",
    "'''\n",
    "def check_prime(num):\n",
    "    '''\n",
    "    This is Prime Function which checks if a number is prime or not\n",
    "    '''\n",
    "    for i in range(2, num):\n",
    "        if num%i == 0:\n",
    "            return False\n",
    "    return True"
   ]
  },
  {
   "cell_type": "code",
   "execution_count": 40,
   "metadata": {},
   "outputs": [
    {
     "name": "stdout",
     "output_type": "stream",
     "text": [
      "\n",
      "-------------------------------------------------------------------\n",
      "\n",
      "Your code has been rated at 10.00/10 (previous run: 8.00/10, +2.00)\n",
      "\n",
      "\n",
      "\n"
     ]
    }
   ],
   "source": [
    "! pylint \"qone.py\""
   ]
  },
  {
   "cell_type": "code",
   "execution_count": 43,
   "metadata": {},
   "outputs": [],
   "source": [
    "import unittest"
   ]
  },
  {
   "cell_type": "code",
   "execution_count": 14,
   "metadata": {},
   "outputs": [
    {
     "name": "stdout",
     "output_type": "stream",
     "text": [
      "Overwriting utest.py\n"
     ]
    }
   ],
   "source": [
    "%%writefile utest.py\n",
    "'''\n",
    "This file will help me to do my UnitTest\n",
    "'''\n",
    "import qone\n",
    "import unittest\n",
    "\n",
    "class unit_test(unittest.TestCase):\n",
    "    def test_check_my_program(self):\n",
    "        num = 2\n",
    "        result = qone.check_prime(num)\n",
    "        self.assertEqual(result , True)\n",
    "        num = 4\n",
    "        result = qone.check_prime(num)\n",
    "        self.assertEqual(result , False)\n",
    "if __name__ == \"__main__\":\n",
    "    unittest.main()"
   ]
  },
  {
   "cell_type": "code",
   "execution_count": 5,
   "metadata": {},
   "outputs": [
    {
     "name": "stderr",
     "output_type": "stream",
     "text": [
      "utest.py:11: DeprecationWarning: Please use assertEqual instead.\n",
      "  self.assertEquals(result , 'True')\n",
      "F\n",
      "======================================================================\n",
      "FAIL: test_check_my_program (__main__.unit_test)\n",
      "----------------------------------------------------------------------\n",
      "Traceback (most recent call last):\n",
      "  File \"utest.py\", line 11, in test_check_my_program\n",
      "    self.assertEquals(result , 'True')\n",
      "AssertionError: True != 'True'\n",
      "\n",
      "----------------------------------------------------------------------\n",
      "Ran 1 test in 0.000s\n",
      "\n",
      "FAILED (failures=1)\n"
     ]
    }
   ],
   "source": [
    "! python utest.py"
   ]
  },
  {
   "cell_type": "code",
   "execution_count": 15,
   "metadata": {},
   "outputs": [
    {
     "name": "stderr",
     "output_type": "stream",
     "text": [
      ".\n",
      "----------------------------------------------------------------------\n",
      "Ran 1 test in 0.001s\n",
      "\n",
      "OK\n"
     ]
    }
   ],
   "source": [
    "! python utest.py"
   ]
  },
  {
   "cell_type": "markdown",
   "metadata": {},
   "source": [
    "Q2 -> Make a generator ptogram for returning armstrong number between 1 and 1000 in a Generator Object"
   ]
  },
  {
   "cell_type": "code",
   "execution_count": 22,
   "metadata": {},
   "outputs": [],
   "source": [
    "def GeneratorProgram():\n",
    "    for i in range(1,1001):\n",
    "        order = len(str(i))\n",
    "        sum = 0\n",
    "\n",
    "        # find the sum of the cube of each digit\n",
    "        temp = i\n",
    "        while temp > 0:\n",
    "           digit = temp % 10\n",
    "           sum += digit ** order\n",
    "           temp //= 10\n",
    "        \n",
    "        if i == sum:\n",
    "           yield i"
   ]
  },
  {
   "cell_type": "code",
   "execution_count": 23,
   "metadata": {},
   "outputs": [],
   "source": [
    "X = GeneratorProgram()"
   ]
  },
  {
   "cell_type": "code",
   "execution_count": 24,
   "metadata": {},
   "outputs": [
    {
     "name": "stdout",
     "output_type": "stream",
     "text": [
      "[1, 2, 3, 4, 5, 6, 7, 8, 9, 153, 370, 371, 407]\n"
     ]
    }
   ],
   "source": [
    "print(list(X))"
   ]
  }
 ],
 "metadata": {
  "kernelspec": {
   "display_name": "Python 3",
   "language": "python",
   "name": "python3"
  },
  "language_info": {
   "codemirror_mode": {
    "name": "ipython",
    "version": 3
   },
   "file_extension": ".py",
   "mimetype": "text/x-python",
   "name": "python",
   "nbconvert_exporter": "python",
   "pygments_lexer": "ipython3",
   "version": "3.7.1"
  }
 },
 "nbformat": 4,
 "nbformat_minor": 2
}
