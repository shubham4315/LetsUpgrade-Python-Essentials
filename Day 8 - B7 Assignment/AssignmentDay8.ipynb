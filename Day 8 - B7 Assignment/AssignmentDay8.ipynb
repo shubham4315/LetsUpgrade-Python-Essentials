{
 "cells": [
  {
   "cell_type": "markdown",
   "metadata": {},
   "source": [
    "# Assignment Day 8"
   ]
  },
  {
   "cell_type": "markdown",
   "metadata": {},
   "source": [
    "Question 1\n",
    "Write a decorator function for your taking input for you any kind of function you want to build,\n",
    "For example - You make a fibonacci series function,in which your input range is been defined by\n",
    "the decorator program input.\n"
   ]
  },
  {
   "cell_type": "code",
   "execution_count": 10,
   "metadata": {},
   "outputs": [],
   "source": [
    "def decorator_func(add):\n",
    "    def inner():\n",
    "        print(\"Please Enter numbers\")\n",
    "        print(\"Enter number 1 : \")\n",
    "        x = int(input())\n",
    "        print(\"Enter number 2 : \")\n",
    "        y = int(input())\n",
    "        return add(x,y)\n",
    "    return inner"
   ]
  },
  {
   "cell_type": "code",
   "execution_count": 17,
   "metadata": {},
   "outputs": [],
   "source": [
    "@decorator_func\n",
    "def add(x,y):\n",
    "    print(\"The summation is : \" , (x+y))"
   ]
  },
  {
   "cell_type": "code",
   "execution_count": 18,
   "metadata": {},
   "outputs": [
    {
     "name": "stdout",
     "output_type": "stream",
     "text": [
      "Please Enter numbers\n",
      "Enter number 1 : \n",
      "100\n",
      "Enter number 2 : \n",
      "400\n",
      "The summation is :  500\n"
     ]
    }
   ],
   "source": [
    "add()"
   ]
  },
  {
   "cell_type": "markdown",
   "metadata": {},
   "source": [
    "Question 2\n",
    "For this challenge you need to develop a Python program to open a file in read only mode and try\n",
    "writing something to it and handle the subsequent errors using Exception Handling."
   ]
  },
  {
   "cell_type": "code",
   "execution_count": 31,
   "metadata": {},
   "outputs": [
    {
     "name": "stdout",
     "output_type": "stream",
     "text": [
      "I/O error:  not writable\n"
     ]
    }
   ],
   "source": [
    "try:\n",
    "    file = open('Assignment.txt' , 'r')\n",
    "    file.write(\"Hey You..Hello\")\n",
    "except FileNotFoundError :\n",
    "    print(\"Cannot Write while in read mode\")\n",
    "except IOError as err:\n",
    "    print(\"I/O error: \" , err)"
   ]
  },
  {
   "cell_type": "code",
   "execution_count": null,
   "metadata": {},
   "outputs": [],
   "source": []
  }
 ],
 "metadata": {
  "kernelspec": {
   "display_name": "Python 3",
   "language": "python",
   "name": "python3"
  },
  "language_info": {
   "codemirror_mode": {
    "name": "ipython",
    "version": 3
   },
   "file_extension": ".py",
   "mimetype": "text/x-python",
   "name": "python",
   "nbconvert_exporter": "python",
   "pygments_lexer": "ipython3",
   "version": "3.7.1"
  }
 },
 "nbformat": 4,
 "nbformat_minor": 2
}
