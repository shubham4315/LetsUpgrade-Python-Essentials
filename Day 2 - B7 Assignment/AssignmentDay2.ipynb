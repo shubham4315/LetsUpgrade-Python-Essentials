{
 "cells": [
  {
   "cell_type": "markdown",
   "metadata": {},
   "source": [
    "# LIST"
   ]
  },
  {
   "cell_type": "code",
   "execution_count": 16,
   "metadata": {},
   "outputs": [],
   "source": [
    "lst = [1,2,3,4,5, \"Raja\" , \"Rani\" , 'A' , 22.12 , [1,2,3,4,5]]"
   ]
  },
  {
   "cell_type": "code",
   "execution_count": 17,
   "metadata": {},
   "outputs": [
    {
     "name": "stdout",
     "output_type": "stream",
     "text": [
      "5\n",
      "[[1, 2, 3, 4, 5], 22.12, 'A', 'Rani', 'Raja', 5, 4, 3, 2, 1]\n",
      "[[1, 2, 3, 4, 5], 22.12, 'A', 'Rani', 'Raja', 5, 4, 3, 2, 1, 25]\n",
      "[[1, 2, 3, 4, 5], 22.12, 'A', 'Rani', 'Raja', 4, 3, 2, 1, 25]\n",
      "1\n",
      "25\n"
     ]
    }
   ],
   "source": [
    "print(lst.index('Raja'))\n",
    "lst.reverse()\n",
    "print(lst)\n",
    "lst.append(25)\n",
    "print(lst)\n",
    "lst.remove(5)\n",
    "print(lst)\n",
    "print(lst.count(1))\n",
    "print(lst.pop())"
   ]
  },
  {
   "cell_type": "markdown",
   "metadata": {},
   "source": [
    "# Dictionary"
   ]
  },
  {
   "cell_type": "code",
   "execution_count": 21,
   "metadata": {},
   "outputs": [
    {
     "name": "stdout",
     "output_type": "stream",
     "text": [
      "dict_keys([0, 1, 3, 4])\n",
      "Shamu\n",
      "DICT IS  {0: 'Ramu', 1: 'Shamu', 3: 'Sita', 4: 'Meena'}\n",
      "DICT 1 IS   {0: 'Ramu', 1: 'Shamu', 3: 'Sita', 4: 'Meena'}\n",
      "dict_items([(0, 'Ramu'), (1, 'Shamu'), (3, 'Sita'), (4, 'Meena')])\n"
     ]
    }
   ],
   "source": [
    "dict = {0:\"Ramu\" , 1:\"Shamu\" , 3:\"Geeta\" , 4:\"Meena\"}\n",
    "\n",
    "print(dict.keys())\n",
    "print(dict.get(1))\n",
    "dict.update({3:\"Sita\"})\n",
    "print(\"DICT IS \" , dict)\n",
    "dict1 = dict.copy()\n",
    "print(\"DICT 1 IS  \" ,dict1)\n",
    "print(dict.items())"
   ]
  },
  {
   "cell_type": "markdown",
   "metadata": {},
   "source": [
    "# Sets\n"
   ]
  },
  {
   "cell_type": "code",
   "execution_count": 34,
   "metadata": {},
   "outputs": [
    {
     "name": "stdout",
     "output_type": "stream",
     "text": [
      "{1, 2, 3, 4, 5}\n",
      "{1, 2, 3, 4, 5, 6}\n",
      "{1, 3, 4, 5, 6}\n",
      "{1, 5, 6}\n",
      "{3, 4}\n",
      "{1, 3, 4, 5, 6}\n",
      "{0, 1, 3, 4, 5, 6, 100, 11, -1}\n"
     ]
    }
   ],
   "source": [
    "s = {1,2,3,4,5}\n",
    "print(s)\n",
    "s.add(6)\n",
    "print(s)\n",
    "s.remove(2)\n",
    "print(s)\n",
    "s1 = {20,30,-10,2,3,4}\n",
    "print(s.difference(s1))\n",
    "print(s.intersection(s1))\n",
    "print(s)\n",
    "s.update([0,-1,11,100])\n",
    "print(s)"
   ]
  },
  {
   "cell_type": "markdown",
   "metadata": {},
   "source": [
    "# Tuples\n"
   ]
  },
  {
   "cell_type": "code",
   "execution_count": 30,
   "metadata": {},
   "outputs": [],
   "source": [
    "tup = ((1,2,3,4,5))"
   ]
  },
  {
   "cell_type": "code",
   "execution_count": 33,
   "metadata": {},
   "outputs": [
    {
     "name": "stdout",
     "output_type": "stream",
     "text": [
      "3\n",
      "(5, 6)\n",
      "(1, 2)\n",
      "False\n",
      "(3, 4)\n",
      "(5, 6)\n",
      "((3, 4), (5, 6))\n"
     ]
    }
   ],
   "source": [
    "print(len(tup))\n",
    "print(max(tup))\n",
    "print(min(tup))\n",
    "print(2 in tup)\n",
    "print(tup[1])\n",
    "print(tup[-1])\n",
    "print(tup[1:3])\n",
    "    "
   ]
  },
  {
   "cell_type": "markdown",
   "metadata": {},
   "source": [
    "# String"
   ]
  },
  {
   "cell_type": "code",
   "execution_count": 39,
   "metadata": {},
   "outputs": [
    {
     "name": "stdout",
     "output_type": "stream",
     "text": [
      "a\n",
      "v\n",
      "['a', 'a', 'b', 'b', 'r', 'u', 'v']\n",
      "baburav\n",
      "2\n",
      "Baburav\n"
     ]
    }
   ],
   "source": [
    "string = \"baburav\"\n",
    "len(string)\n",
    "print(string[1])\n",
    "print(string[-1])\n",
    "print(sorted(string))\n",
    "print(string)\n",
    "print(string.count('a'))\n",
    "print(string.capitalize())"
   ]
  }
 ],
 "metadata": {
  "kernelspec": {
   "display_name": "Python 3",
   "language": "python",
   "name": "python3"
  },
  "language_info": {
   "codemirror_mode": {
    "name": "ipython",
    "version": 3
   },
   "file_extension": ".py",
   "mimetype": "text/x-python",
   "name": "python",
   "nbconvert_exporter": "python",
   "pygments_lexer": "ipython3",
   "version": "3.7.1"
  }
 },
 "nbformat": 4,
 "nbformat_minor": 2
}
